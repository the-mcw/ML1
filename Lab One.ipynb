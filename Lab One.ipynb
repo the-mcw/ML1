{
 "cells": [
  {
   "cell_type": "markdown",
   "id": "fcb08c75",
   "metadata": {},
   "source": [
    "Lab One"
   ]
  },
  {
   "cell_type": "code",
   "execution_count": 2,
   "id": "7b049c90",
   "metadata": {},
   "outputs": [],
   "source": [
    "# general\n",
    "import os\n",
    "import numpy as np\n",
    "import pandas as pd\n",
    "\n",
    "# plots\n",
    "from IPython.display import Image\n",
    "import matplotlib.pyplot as plt\n",
    "from matplotlib.colors import ListedColormap\n",
    "\n",
    "from IPython.display import Image\n",
    "\n",
    "# predictions\n",
    "from sklearn import datasets\n",
    "from sklearn.model_selection import train_test_split\n",
    "from sklearn.preprocessing import StandardScaler\n",
    "from sklearn.linear_model import Perceptron\n",
    "from sklearn.linear_model import LogisticRegression\n",
    "from sklearn.svm import SVC\n",
    "from sklearn.naive_bayes import GaussianNB\n",
    "%matplotlib inline"
   ]
  },
  {
   "cell_type": "code",
   "execution_count": 5,
   "id": "5181b85b",
   "metadata": {},
   "outputs": [],
   "source": [
    "drivers = pd.read_csv(\"https://raw.githubusercontent.com/the-mcw/ML1/main/data/drivers.csv\")\n",
    "driver_standings = pd.read_csv(\"https://raw.githubusercontent.com/the-mcw/ML1/main/data/driver_standings.csv\", sep = \",\")\n",
    "driver_results = pd.read_csv(\"https://raw.githubusercontent.com/the-mcw/ML1/main/data/results.csv\")\n",
    "lap_times = pd.read_csv(\"https://raw.githubusercontent.com/the-mcw/ML1/main/data/lap_times.csv\")\n",
    "pit_stops = pd.read_csv(\"https://raw.githubusercontent.com/the-mcw/ML1/main/data/pit_stops.csv\")\n",
    "qualifying = pd.read_csv(\"https://raw.githubusercontent.com/the-mcw/ML1/main/data/qualifying.csv\")\n",
    "races = pd.read_csv(\"https://raw.githubusercontent.com/the-mcw/ML1/main/data/races.csv\")\n",
    "sprint_results = pd.read_csv(\"https://raw.githubusercontent.com/the-mcw/ML1/main/data/sprint_results.csv\")\n",
    "status = pd.read_csv(\"https://raw.githubusercontent.com/the-mcw/ML1/main/data/status.csv\")\n",
    "constructors = pd.read_csv(\"https://raw.githubusercontent.com/the-mcw/ML1/main/data/constructors.csv\")\n",
    "constructor_standings = pd.read_csv(\"https://raw.githubusercontent.com/the-mcw/ML1/main/data/constructor_standings.csv\")\n",
    "constructor_results = pd.read_csv(\"https://raw.githubusercontent.com/the-mcw/ML1/main/data/constructor_results.csv\")\n",
    "circuits = pd.read_csv(\"https://raw.githubusercontent.com/the-mcw/ML1/main/data/circuits.csv\")"
   ]
  },
  {
   "cell_type": "code",
   "execution_count": 26,
   "id": "15e18baa-8da3-40e6-aa52-b5a22fbe7b63",
   "metadata": {},
   "outputs": [
    {
     "name": "stdout",
     "output_type": "stream",
     "text": [
      "<class 'pandas.core.frame.DataFrame'>\n",
      "RangeIndex: 857 entries, 0 to 856\n",
      "Data columns (total 9 columns):\n",
      " #   Column       Non-Null Count  Dtype \n",
      "---  ------       --------------  ----- \n",
      " 0   driverId     857 non-null    int64 \n",
      " 1   driverRef    857 non-null    object\n",
      " 2   number       857 non-null    object\n",
      " 3   code         857 non-null    object\n",
      " 4   forename     857 non-null    object\n",
      " 5   surname      857 non-null    object\n",
      " 6   dob          857 non-null    object\n",
      " 7   nationality  857 non-null    object\n",
      " 8   url          857 non-null    object\n",
      "dtypes: int64(1), object(8)\n",
      "memory usage: 60.4+ KB\n"
     ]
    }
   ],
   "source": [
    "drivers.info()"
   ]
  },
  {
   "cell_type": "code",
   "execution_count": 27,
   "id": "2f81d5ea-0c97-4951-ba8c-dfc5ff2d7d00",
   "metadata": {},
   "outputs": [
    {
     "name": "stdout",
     "output_type": "stream",
     "text": [
      "<class 'pandas.core.frame.DataFrame'>\n",
      "RangeIndex: 33902 entries, 0 to 33901\n",
      "Data columns (total 7 columns):\n",
      " #   Column             Non-Null Count  Dtype  \n",
      "---  ------             --------------  -----  \n",
      " 0   driverStandingsId  33902 non-null  int64  \n",
      " 1   raceId             33902 non-null  int64  \n",
      " 2   driverId           33902 non-null  int64  \n",
      " 3   points             33902 non-null  float64\n",
      " 4   position           33902 non-null  int64  \n",
      " 5   positionText       33902 non-null  object \n",
      " 6   wins               33902 non-null  int64  \n",
      "dtypes: float64(1), int64(5), object(1)\n",
      "memory usage: 1.8+ MB\n"
     ]
    }
   ],
   "source": [
    "driver_standings.info()"
   ]
  },
  {
   "cell_type": "code",
   "execution_count": 25,
   "id": "b9e7fb02-5a70-4504-86ad-6688e8ce9b8b",
   "metadata": {},
   "outputs": [
    {
     "name": "stdout",
     "output_type": "stream",
     "text": [
      "<class 'pandas.core.frame.DataFrame'>\n",
      "RangeIndex: 25840 entries, 0 to 25839\n",
      "Data columns (total 18 columns):\n",
      " #   Column           Non-Null Count  Dtype  \n",
      "---  ------           --------------  -----  \n",
      " 0   resultId         25840 non-null  int64  \n",
      " 1   raceId           25840 non-null  int64  \n",
      " 2   driverId         25840 non-null  int64  \n",
      " 3   constructorId    25840 non-null  int64  \n",
      " 4   number           25840 non-null  object \n",
      " 5   grid             25840 non-null  int64  \n",
      " 6   position         25840 non-null  object \n",
      " 7   positionText     25840 non-null  object \n",
      " 8   positionOrder    25840 non-null  int64  \n",
      " 9   points           25840 non-null  float64\n",
      " 10  laps             25840 non-null  int64  \n",
      " 11  time             25840 non-null  object \n",
      " 12  milliseconds     25840 non-null  object \n",
      " 13  fastestLap       25840 non-null  object \n",
      " 14  rank             25840 non-null  object \n",
      " 15  fastestLapTime   25840 non-null  object \n",
      " 16  fastestLapSpeed  25840 non-null  object \n",
      " 17  statusId         25840 non-null  int64  \n",
      "dtypes: float64(1), int64(8), object(9)\n",
      "memory usage: 3.5+ MB\n"
     ]
    }
   ],
   "source": [
    "driver_results.info()"
   ]
  },
  {
   "cell_type": "code",
   "execution_count": 31,
   "id": "34f6ab46-a640-4411-bf18-72dce430f90d",
   "metadata": {},
   "outputs": [
    {
     "name": "stdout",
     "output_type": "stream",
     "text": [
      "<class 'pandas.core.frame.DataFrame'>\n",
      "RangeIndex: 538121 entries, 0 to 538120\n",
      "Data columns (total 6 columns):\n",
      " #   Column        Non-Null Count   Dtype \n",
      "---  ------        --------------   ----- \n",
      " 0   raceId        538121 non-null  int64 \n",
      " 1   driverId      538121 non-null  int64 \n",
      " 2   lap           538121 non-null  int64 \n",
      " 3   position      538121 non-null  int64 \n",
      " 4   time          538121 non-null  object\n",
      " 5   milliseconds  538121 non-null  int64 \n",
      "dtypes: int64(5), object(1)\n",
      "memory usage: 24.6+ MB\n"
     ]
    }
   ],
   "source": [
    "lap_times.info()"
   ]
  },
  {
   "cell_type": "code",
   "execution_count": 45,
   "id": "c1564513-01ec-4a5d-9489-7af7cd40fc64",
   "metadata": {},
   "outputs": [
    {
     "name": "stdout",
     "output_type": "stream",
     "text": [
      "<class 'pandas.core.frame.DataFrame'>\n",
      "RangeIndex: 9634 entries, 0 to 9633\n",
      "Data columns (total 7 columns):\n",
      " #   Column        Non-Null Count  Dtype \n",
      "---  ------        --------------  ----- \n",
      " 0   raceId        9634 non-null   int64 \n",
      " 1   driverId      9634 non-null   int64 \n",
      " 2   stop          9634 non-null   int64 \n",
      " 3   lap           9634 non-null   int64 \n",
      " 4   time          9634 non-null   object\n",
      " 5   duration      9634 non-null   object\n",
      " 6   milliseconds  9634 non-null   int64 \n",
      "dtypes: int64(5), object(2)\n",
      "memory usage: 527.0+ KB\n"
     ]
    },
    {
     "data": {
      "text/plain": [
       "72401.7306414781"
      ]
     },
     "execution_count": 45,
     "metadata": {},
     "output_type": "execute_result"
    }
   ],
   "source": [
    "pit_stops.info()\n",
    "pit_stops.milliseconds.mean()"
   ]
  },
  {
   "cell_type": "code",
   "execution_count": 35,
   "id": "f87de6ef-3954-4f68-9d71-b170e909ce7a",
   "metadata": {},
   "outputs": [
    {
     "name": "stdout",
     "output_type": "stream",
     "text": [
      "<class 'pandas.core.frame.DataFrame'>\n",
      "RangeIndex: 9575 entries, 0 to 9574\n",
      "Data columns (total 9 columns):\n",
      " #   Column         Non-Null Count  Dtype \n",
      "---  ------         --------------  ----- \n",
      " 0   qualifyId      9575 non-null   int64 \n",
      " 1   raceId         9575 non-null   int64 \n",
      " 2   driverId       9575 non-null   int64 \n",
      " 3   constructorId  9575 non-null   int64 \n",
      " 4   number         9575 non-null   int64 \n",
      " 5   position       9575 non-null   int64 \n",
      " 6   q1             9567 non-null   object\n",
      " 7   q2             9424 non-null   object\n",
      " 8   q3             9276 non-null   object\n",
      "dtypes: int64(6), object(3)\n",
      "memory usage: 673.4+ KB\n"
     ]
    }
   ],
   "source": [
    "qualifying.info()"
   ]
  },
  {
   "cell_type": "code",
   "execution_count": 46,
   "id": "cdb2df98-86c2-495d-b458-987d5d001f37",
   "metadata": {},
   "outputs": [
    {
     "name": "stdout",
     "output_type": "stream",
     "text": [
      "<class 'pandas.core.frame.DataFrame'>\n",
      "RangeIndex: 1102 entries, 0 to 1101\n",
      "Data columns (total 18 columns):\n",
      " #   Column       Non-Null Count  Dtype \n",
      "---  ------       --------------  ----- \n",
      " 0   raceId       1102 non-null   int64 \n",
      " 1   year         1102 non-null   int64 \n",
      " 2   round        1102 non-null   int64 \n",
      " 3   circuitId    1102 non-null   int64 \n",
      " 4   name         1102 non-null   object\n",
      " 5   date         1102 non-null   object\n",
      " 6   time         1102 non-null   object\n",
      " 7   url          1102 non-null   object\n",
      " 8   fp1_date     1102 non-null   object\n",
      " 9   fp1_time     1102 non-null   object\n",
      " 10  fp2_date     1102 non-null   object\n",
      " 11  fp2_time     1102 non-null   object\n",
      " 12  fp3_date     1102 non-null   object\n",
      " 13  fp3_time     1102 non-null   object\n",
      " 14  quali_date   1102 non-null   object\n",
      " 15  quali_time   1102 non-null   object\n",
      " 16  sprint_date  1102 non-null   object\n",
      " 17  sprint_time  1102 non-null   object\n",
      "dtypes: int64(4), object(14)\n",
      "memory usage: 155.1+ KB\n",
      "<class 'pandas.core.frame.DataFrame'>\n",
      "RangeIndex: 77 entries, 0 to 76\n",
      "Data columns (total 9 columns):\n",
      " #   Column      Non-Null Count  Dtype  \n",
      "---  ------      --------------  -----  \n",
      " 0   circuitId   77 non-null     int64  \n",
      " 1   circuitRef  77 non-null     object \n",
      " 2   name        77 non-null     object \n",
      " 3   location    77 non-null     object \n",
      " 4   country     77 non-null     object \n",
      " 5   lat         77 non-null     float64\n",
      " 6   lng         77 non-null     float64\n",
      " 7   alt         77 non-null     object \n",
      " 8   url         77 non-null     object \n",
      "dtypes: float64(2), int64(1), object(6)\n",
      "memory usage: 5.5+ KB\n"
     ]
    }
   ],
   "source": [
    "races.info()\n",
    "circuits.info()"
   ]
  },
  {
   "cell_type": "code",
   "execution_count": 22,
   "id": "91a8c473-c55b-4999-91a4-03263eb85ee6",
   "metadata": {},
   "outputs": [
    {
     "data": {
      "text/html": [
       "<div>\n",
       "<style scoped>\n",
       "    .dataframe tbody tr th:only-of-type {\n",
       "        vertical-align: middle;\n",
       "    }\n",
       "\n",
       "    .dataframe tbody tr th {\n",
       "        vertical-align: top;\n",
       "    }\n",
       "\n",
       "    .dataframe thead th {\n",
       "        text-align: right;\n",
       "    }\n",
       "</style>\n",
       "<table border=\"1\" class=\"dataframe\">\n",
       "  <thead>\n",
       "    <tr style=\"text-align: right;\">\n",
       "      <th></th>\n",
       "      <th>statusId</th>\n",
       "      <th>status</th>\n",
       "    </tr>\n",
       "  </thead>\n",
       "  <tbody>\n",
       "    <tr>\n",
       "      <th>0</th>\n",
       "      <td>1</td>\n",
       "      <td>Finished</td>\n",
       "    </tr>\n",
       "    <tr>\n",
       "      <th>1</th>\n",
       "      <td>2</td>\n",
       "      <td>Disqualified</td>\n",
       "    </tr>\n",
       "    <tr>\n",
       "      <th>2</th>\n",
       "      <td>3</td>\n",
       "      <td>Accident</td>\n",
       "    </tr>\n",
       "    <tr>\n",
       "      <th>3</th>\n",
       "      <td>4</td>\n",
       "      <td>Collision</td>\n",
       "    </tr>\n",
       "    <tr>\n",
       "      <th>4</th>\n",
       "      <td>5</td>\n",
       "      <td>Engine</td>\n",
       "    </tr>\n",
       "  </tbody>\n",
       "</table>\n",
       "</div>"
      ],
      "text/plain": [
       "   statusId        status\n",
       "0         1      Finished\n",
       "1         2  Disqualified\n",
       "2         3      Accident\n",
       "3         4     Collision\n",
       "4         5        Engine"
      ]
     },
     "execution_count": 22,
     "metadata": {},
     "output_type": "execute_result"
    }
   ],
   "source": [
    "status.head()"
   ]
  },
  {
   "cell_type": "code",
   "execution_count": 59,
   "id": "f9acf56b-a540-4351-9606-3af2b04ff971",
   "metadata": {},
   "outputs": [
    {
     "data": {
      "text/html": [
       "<div>\n",
       "<style scoped>\n",
       "    .dataframe tbody tr th:only-of-type {\n",
       "        vertical-align: middle;\n",
       "    }\n",
       "\n",
       "    .dataframe tbody tr th {\n",
       "        vertical-align: top;\n",
       "    }\n",
       "\n",
       "    .dataframe thead th {\n",
       "        text-align: right;\n",
       "    }\n",
       "</style>\n",
       "<table border=\"1\" class=\"dataframe\">\n",
       "  <thead>\n",
       "    <tr style=\"text-align: right;\">\n",
       "      <th></th>\n",
       "      <th>constructorStandingsId</th>\n",
       "      <th>raceId</th>\n",
       "      <th>constructorId</th>\n",
       "      <th>points</th>\n",
       "      <th>position</th>\n",
       "      <th>positionText</th>\n",
       "      <th>wins</th>\n",
       "    </tr>\n",
       "  </thead>\n",
       "  <tbody>\n",
       "    <tr>\n",
       "      <th>0</th>\n",
       "      <td>1</td>\n",
       "      <td>18</td>\n",
       "      <td>1</td>\n",
       "      <td>14.0</td>\n",
       "      <td>1</td>\n",
       "      <td>1</td>\n",
       "      <td>1</td>\n",
       "    </tr>\n",
       "    <tr>\n",
       "      <th>1</th>\n",
       "      <td>2</td>\n",
       "      <td>18</td>\n",
       "      <td>2</td>\n",
       "      <td>8.0</td>\n",
       "      <td>3</td>\n",
       "      <td>3</td>\n",
       "      <td>0</td>\n",
       "    </tr>\n",
       "    <tr>\n",
       "      <th>2</th>\n",
       "      <td>3</td>\n",
       "      <td>18</td>\n",
       "      <td>3</td>\n",
       "      <td>9.0</td>\n",
       "      <td>2</td>\n",
       "      <td>2</td>\n",
       "      <td>0</td>\n",
       "    </tr>\n",
       "    <tr>\n",
       "      <th>3</th>\n",
       "      <td>4</td>\n",
       "      <td>18</td>\n",
       "      <td>4</td>\n",
       "      <td>5.0</td>\n",
       "      <td>4</td>\n",
       "      <td>4</td>\n",
       "      <td>0</td>\n",
       "    </tr>\n",
       "    <tr>\n",
       "      <th>4</th>\n",
       "      <td>5</td>\n",
       "      <td>18</td>\n",
       "      <td>5</td>\n",
       "      <td>2.0</td>\n",
       "      <td>5</td>\n",
       "      <td>5</td>\n",
       "      <td>0</td>\n",
       "    </tr>\n",
       "  </tbody>\n",
       "</table>\n",
       "</div>"
      ],
      "text/plain": [
       "   constructorStandingsId  raceId  constructorId  points  position  \\\n",
       "0                       1      18              1    14.0         1   \n",
       "1                       2      18              2     8.0         3   \n",
       "2                       3      18              3     9.0         2   \n",
       "3                       4      18              4     5.0         4   \n",
       "4                       5      18              5     2.0         5   \n",
       "\n",
       "  positionText  wins  \n",
       "0            1     1  \n",
       "1            3     0  \n",
       "2            2     0  \n",
       "3            4     0  \n",
       "4            5     0  "
      ]
     },
     "execution_count": 59,
     "metadata": {},
     "output_type": "execute_result"
    }
   ],
   "source": [
    "#constructors.head()\n",
    "constructor_standings.head()\n",
    "#constructor_standings.info()\n",
    "#constructor_results.head()\n",
    "#constructor_results.info()"
   ]
  },
  {
   "cell_type": "code",
   "execution_count": 21,
   "id": "3dd46f6d-dfd0-4dd3-be6b-195db9e82e5c",
   "metadata": {},
   "outputs": [
    {
     "data": {
      "image/png": "[encoded data removed]",
      "text/plain": [
       "<Figure size 1000x600 with 1 Axes>"
      ]
     },
     "metadata": {},
     "output_type": "display_data"
    }
   ],
   "source": [
    "\n",
    "country_counts = circuits['country'].value_counts()\n",
    "plt.figure(figsize=(10, 6))\n",
    "country_counts.plot(kind='bar')\n",
    "plt.xlabel('Country')\n",
    "plt.ylabel('Count')\n",
    "plt.title('Number of Circuits per Country')\n",
    "plt.show()"
   ]
  }
 ],
 "metadata": {
  "kernelspec": {
   "display_name": "Python 3 (ipykernel)",
   "language": "python",
   "name": "python3"
  },
  "language_info": {
   "codemirror_mode": {
    "name": "ipython",
    "version": 3
   },
   "file_extension": ".py",
   "mimetype": "text/x-python",
   "name": "python",
   "nbconvert_exporter": "python",
   "pygments_lexer": "ipython3",
   "version": "3.9.13"
  }
 },
 "nbformat": 4,
 "nbformat_minor": 5
}
