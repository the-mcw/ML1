{
 "cells": [
  {
   "cell_type": "markdown",
   "id": "fcb08c75",
   "metadata": {},
   "source": [
    "# Lab One"
   ]
  },
  {
   "cell_type": "markdown",
   "id": "524164e5",
   "metadata": {},
   "source": [
    "Business Understanding:\n",
    "\n",
    "The data was collected as a comprehensive repository of Formula 1 data, capturing race results, driver and constructor standings, lap times, pit stop details, circuit information, etc. It serves as a valuable resource for Teams, researchers, and fans to study the evolution of the sport, understand performance trends, and uncover factors that contribute to success in Formula 1.\n",
    " \n",
    "By analyzing this historical data, we can identify trends, patterns, and correlations that provide predictive insights. For instance, we can explore whether specific driver characteristics contribute to their likelihood of winning races or becoming season champions. Additionally, we can measure the impact of pit stop times and frequency on a driver's chances of finishing on the podium. \n",
    "\n",
    "To ensure the accuracy and completeness of the dataset, data validation processes are crucial. Data validation processes can include cross-referencing with official Formula 1 records, comparing results across multiple sources, and performing data quality checks to identify and correct any inconsistencies or missing information.\n",
    "\n",
    "The effectiveness of prediction algorithms can be assessed by measuring their accuracy in predicting race outcomes, driver standings, and lap times. By comparing the algorithm's predictions to actual results, we can gauge its performance in these specific areas."
   ]
  },
  {
   "cell_type": "markdown",
   "id": "3c89f060",
   "metadata": {},
   "source": [
    "Data Understanding:\n",
    "    \n",
    "Describe the meaning and type of data (scale, values, etc.) for each\n",
    "attribute in the data file\n",
    "    \n",
    "  There are three datasets focusing on the Drivers. The first dataset provides basic information such as names, dates of birth, and nationalities. The second dataset, Driver Standings, tracks the drivers' positions and points in the competition for each race of every season. The last dataset, Driver Results, contains attributes related to a driver's race performance, including points, positions, fastest lap times, the constructor they raced for, starting grid positions, etc.\n",
    "    \n",
    "  The Pitstop dataset records details of each driver's pitstop, including the time it took. The Qualifying dataset shows where each driver qualified on the grid for each race, as well as a breakdown of their times for each qualifying session. \n",
    "\n",
    "  Smaller tables such as the Status dataset explains the meaning behind each Status ID, which is included in other datasets such as Driver Results. The Status ID represents various incidents that can occur during a race and impact performance.\n",
    "\n"
   ]
  },
  {
   "cell_type": "code",
   "execution_count": 3,
   "id": "7b049c90",
   "metadata": {},
   "outputs": [
    {
     "ename": "ModuleNotFoundError",
     "evalue": "No module named 'sklearn'",
     "output_type": "error",
     "traceback": [
      "\u001b[0;31m---------------------------------------------------------------------------\u001b[0m",
      "\u001b[0;31mModuleNotFoundError\u001b[0m                       Traceback (most recent call last)",
      "Cell \u001b[0;32mIn[3], line 14\u001b[0m\n\u001b[1;32m     11\u001b[0m \u001b[38;5;28;01mfrom\u001b[39;00m \u001b[38;5;21;01mIPython\u001b[39;00m\u001b[38;5;21;01m.\u001b[39;00m\u001b[38;5;21;01mdisplay\u001b[39;00m \u001b[38;5;28;01mimport\u001b[39;00m Image\n\u001b[1;32m     13\u001b[0m \u001b[38;5;66;03m# predictions\u001b[39;00m\n\u001b[0;32m---> 14\u001b[0m \u001b[38;5;28;01mfrom\u001b[39;00m \u001b[38;5;21;01msklearn\u001b[39;00m \u001b[38;5;28;01mimport\u001b[39;00m datasets\n\u001b[1;32m     15\u001b[0m \u001b[38;5;28;01mfrom\u001b[39;00m \u001b[38;5;21;01msklearn\u001b[39;00m\u001b[38;5;21;01m.\u001b[39;00m\u001b[38;5;21;01mmodel_selection\u001b[39;00m \u001b[38;5;28;01mimport\u001b[39;00m train_test_split\n\u001b[1;32m     16\u001b[0m \u001b[38;5;28;01mfrom\u001b[39;00m \u001b[38;5;21;01msklearn\u001b[39;00m\u001b[38;5;21;01m.\u001b[39;00m\u001b[38;5;21;01mpreprocessing\u001b[39;00m \u001b[38;5;28;01mimport\u001b[39;00m StandardScaler\n",
      "\u001b[0;31mModuleNotFoundError\u001b[0m: No module named 'sklearn'"
     ]
    }
   ],
   "source": [
    "# general\n",
    "import os\n",
    "import numpy as np\n",
    "import pandas as pd\n",
    "\n",
    "# plots\n",
    "from IPython.display import Image\n",
    "import matplotlib.pyplot as plt\n",
    "from matplotlib.colors import ListedColormap\n",
    "\n",
    "from IPython.display import Image\n",
    "\n",
    "# predictions\n",
    "from sklearn import datasets\n",
    "from sklearn.model_selection import train_test_split\n",
    "from sklearn.preprocessing import StandardScaler\n",
    "from sklearn.linear_model import Perceptron\n",
    "from sklearn.linear_model import LogisticRegression\n",
    "from sklearn.svm import SVC\n",
    "from sklearn.naive_bayes import GaussianNB\n",
    "%matplotlib inline"
   ]
  },
  {
   "cell_type": "code",
   "execution_count": 4,
   "id": "5181b85b",
   "metadata": {},
   "outputs": [],
   "source": [
    "drivers = pd.read_csv(\"https://raw.githubusercontent.com/the-mcw/ML1/main/data/drivers.csv\")\n",
    "driver_standings = pd.read_csv(\"https://raw.githubusercontent.com/the-mcw/ML1/main/data/driver_standings.csv\", sep = \",\")\n",
    "driver_results = pd.read_csv(\"https://raw.githubusercontent.com/the-mcw/ML1/main/data/results.csv\")\n",
    "lap_times = pd.read_csv(\"https://raw.githubusercontent.com/the-mcw/ML1/main/data/lap_times.csv\")\n",
    "pit_stops = pd.read_csv(\"https://raw.githubusercontent.com/the-mcw/ML1/main/data/pit_stops.csv\")\n",
    "qualifying = pd.read_csv(\"https://raw.githubusercontent.com/the-mcw/ML1/main/data/qualifying.csv\")\n",
    "races = pd.read_csv(\"https://raw.githubusercontent.com/the-mcw/ML1/main/data/races.csv\")\n",
    "sprint_results = pd.read_csv(\"https://raw.githubusercontent.com/the-mcw/ML1/main/data/sprint_results.csv\")\n",
    "status = pd.read_csv(\"https://raw.githubusercontent.com/the-mcw/ML1/main/data/status.csv\")\n",
    "constructors = pd.read_csv(\"https://raw.githubusercontent.com/the-mcw/ML1/main/data/constructors.csv\")\n",
    "constructor_standings = pd.read_csv(\"https://raw.githubusercontent.com/the-mcw/ML1/main/data/constructor_standings.csv\")\n",
    "constructor_results = pd.read_csv(\"https://raw.githubusercontent.com/the-mcw/ML1/main/data/constructor_results.csv\")\n",
    "circuits = pd.read_csv(\"https://raw.githubusercontent.com/the-mcw/ML1/main/data/circuits.csv\")"
   ]
  },
  {
   "cell_type": "code",
   "execution_count": 5,
   "id": "15e18baa-8da3-40e6-aa52-b5a22fbe7b63",
   "metadata": {},
   "outputs": [
    {
     "name": "stdout",
     "output_type": "stream",
     "text": [
      "<class 'pandas.core.frame.DataFrame'>\n",
      "RangeIndex: 857 entries, 0 to 856\n",
      "Data columns (total 9 columns):\n",
      " #   Column       Non-Null Count  Dtype \n",
      "---  ------       --------------  ----- \n",
      " 0   driverId     857 non-null    int64 \n",
      " 1   driverRef    857 non-null    object\n",
      " 2   number       857 non-null    object\n",
      " 3   code         857 non-null    object\n",
      " 4   forename     857 non-null    object\n",
      " 5   surname      857 non-null    object\n",
      " 6   dob          857 non-null    object\n",
      " 7   nationality  857 non-null    object\n",
      " 8   url          857 non-null    object\n",
      "dtypes: int64(1), object(8)\n",
      "memory usage: 60.4+ KB\n"
     ]
    }
   ],
   "source": [
    "drivers.info()"
   ]
  },
  {
   "cell_type": "code",
   "execution_count": 6,
   "id": "2f81d5ea-0c97-4951-ba8c-dfc5ff2d7d00",
   "metadata": {},
   "outputs": [
    {
     "name": "stdout",
     "output_type": "stream",
     "text": [
      "<class 'pandas.core.frame.DataFrame'>\n",
      "RangeIndex: 33902 entries, 0 to 33901\n",
      "Data columns (total 7 columns):\n",
      " #   Column             Non-Null Count  Dtype  \n",
      "---  ------             --------------  -----  \n",
      " 0   driverStandingsId  33902 non-null  int64  \n",
      " 1   raceId             33902 non-null  int64  \n",
      " 2   driverId           33902 non-null  int64  \n",
      " 3   points             33902 non-null  float64\n",
      " 4   position           33902 non-null  int64  \n",
      " 5   positionText       33902 non-null  object \n",
      " 6   wins               33902 non-null  int64  \n",
      "dtypes: float64(1), int64(5), object(1)\n",
      "memory usage: 1.8+ MB\n"
     ]
    }
   ],
   "source": [
    "driver_standings.info()"
   ]
  },
  {
   "cell_type": "code",
   "execution_count": 7,
   "id": "b9e7fb02-5a70-4504-86ad-6688e8ce9b8b",
   "metadata": {},
   "outputs": [
    {
     "name": "stdout",
     "output_type": "stream",
     "text": [
      "<class 'pandas.core.frame.DataFrame'>\n",
      "RangeIndex: 25840 entries, 0 to 25839\n",
      "Data columns (total 18 columns):\n",
      " #   Column           Non-Null Count  Dtype  \n",
      "---  ------           --------------  -----  \n",
      " 0   resultId         25840 non-null  int64  \n",
      " 1   raceId           25840 non-null  int64  \n",
      " 2   driverId         25840 non-null  int64  \n",
      " 3   constructorId    25840 non-null  int64  \n",
      " 4   number           25840 non-null  object \n",
      " 5   grid             25840 non-null  int64  \n",
      " 6   position         25840 non-null  object \n",
      " 7   positionText     25840 non-null  object \n",
      " 8   positionOrder    25840 non-null  int64  \n",
      " 9   points           25840 non-null  float64\n",
      " 10  laps             25840 non-null  int64  \n",
      " 11  time             25840 non-null  object \n",
      " 12  milliseconds     25840 non-null  object \n",
      " 13  fastestLap       25840 non-null  object \n",
      " 14  rank             25840 non-null  object \n",
      " 15  fastestLapTime   25840 non-null  object \n",
      " 16  fastestLapSpeed  25840 non-null  object \n",
      " 17  statusId         25840 non-null  int64  \n",
      "dtypes: float64(1), int64(8), object(9)\n",
      "memory usage: 3.5+ MB\n"
     ]
    }
   ],
   "source": [
    "driver_results.info()"
   ]
  },
  {
   "cell_type": "code",
   "execution_count": 8,
   "id": "34f6ab46-a640-4411-bf18-72dce430f90d",
   "metadata": {},
   "outputs": [
    {
     "name": "stdout",
     "output_type": "stream",
     "text": [
      "<class 'pandas.core.frame.DataFrame'>\n",
      "RangeIndex: 538121 entries, 0 to 538120\n",
      "Data columns (total 6 columns):\n",
      " #   Column        Non-Null Count   Dtype \n",
      "---  ------        --------------   ----- \n",
      " 0   raceId        538121 non-null  int64 \n",
      " 1   driverId      538121 non-null  int64 \n",
      " 2   lap           538121 non-null  int64 \n",
      " 3   position      538121 non-null  int64 \n",
      " 4   time          538121 non-null  object\n",
      " 5   milliseconds  538121 non-null  int64 \n",
      "dtypes: int64(5), object(1)\n",
      "memory usage: 24.6+ MB\n"
     ]
    }
   ],
   "source": [
    "lap_times.info()"
   ]
  },
  {
   "cell_type": "code",
   "execution_count": 9,
   "id": "c1564513-01ec-4a5d-9489-7af7cd40fc64",
   "metadata": {},
   "outputs": [
    {
     "name": "stdout",
     "output_type": "stream",
     "text": [
      "<class 'pandas.core.frame.DataFrame'>\n",
      "RangeIndex: 9634 entries, 0 to 9633\n",
      "Data columns (total 7 columns):\n",
      " #   Column        Non-Null Count  Dtype \n",
      "---  ------        --------------  ----- \n",
      " 0   raceId        9634 non-null   int64 \n",
      " 1   driverId      9634 non-null   int64 \n",
      " 2   stop          9634 non-null   int64 \n",
      " 3   lap           9634 non-null   int64 \n",
      " 4   time          9634 non-null   object\n",
      " 5   duration      9634 non-null   object\n",
      " 6   milliseconds  9634 non-null   int64 \n",
      "dtypes: int64(5), object(2)\n",
      "memory usage: 527.0+ KB\n"
     ]
    },
    {
     "data": {
      "text/plain": [
       "72401.7306414781"
      ]
     },
     "execution_count": 9,
     "metadata": {},
     "output_type": "execute_result"
    }
   ],
   "source": [
    "pit_stops.info()\n",
    "pit_stops.milliseconds.mean()"
   ]
  },
  {
   "cell_type": "code",
   "execution_count": 10,
   "id": "f87de6ef-3954-4f68-9d71-b170e909ce7a",
   "metadata": {},
   "outputs": [
    {
     "name": "stdout",
     "output_type": "stream",
     "text": [
      "<class 'pandas.core.frame.DataFrame'>\n",
      "RangeIndex: 9575 entries, 0 to 9574\n",
      "Data columns (total 9 columns):\n",
      " #   Column         Non-Null Count  Dtype \n",
      "---  ------         --------------  ----- \n",
      " 0   qualifyId      9575 non-null   int64 \n",
      " 1   raceId         9575 non-null   int64 \n",
      " 2   driverId       9575 non-null   int64 \n",
      " 3   constructorId  9575 non-null   int64 \n",
      " 4   number         9575 non-null   int64 \n",
      " 5   position       9575 non-null   int64 \n",
      " 6   q1             9567 non-null   object\n",
      " 7   q2             9424 non-null   object\n",
      " 8   q3             9276 non-null   object\n",
      "dtypes: int64(6), object(3)\n",
      "memory usage: 673.4+ KB\n"
     ]
    }
   ],
   "source": [
    "qualifying.info()"
   ]
  },
  {
   "cell_type": "code",
   "execution_count": 11,
   "id": "cdb2df98-86c2-495d-b458-987d5d001f37",
   "metadata": {},
   "outputs": [
    {
     "name": "stdout",
     "output_type": "stream",
     "text": [
      "<class 'pandas.core.frame.DataFrame'>\n",
      "RangeIndex: 1102 entries, 0 to 1101\n",
      "Data columns (total 18 columns):\n",
      " #   Column       Non-Null Count  Dtype \n",
      "---  ------       --------------  ----- \n",
      " 0   raceId       1102 non-null   int64 \n",
      " 1   year         1102 non-null   int64 \n",
      " 2   round        1102 non-null   int64 \n",
      " 3   circuitId    1102 non-null   int64 \n",
      " 4   name         1102 non-null   object\n",
      " 5   date         1102 non-null   object\n",
      " 6   time         1102 non-null   object\n",
      " 7   url          1102 non-null   object\n",
      " 8   fp1_date     1102 non-null   object\n",
      " 9   fp1_time     1102 non-null   object\n",
      " 10  fp2_date     1102 non-null   object\n",
      " 11  fp2_time     1102 non-null   object\n",
      " 12  fp3_date     1102 non-null   object\n",
      " 13  fp3_time     1102 non-null   object\n",
      " 14  quali_date   1102 non-null   object\n",
      " 15  quali_time   1102 non-null   object\n",
      " 16  sprint_date  1102 non-null   object\n",
      " 17  sprint_time  1102 non-null   object\n",
      "dtypes: int64(4), object(14)\n",
      "memory usage: 155.1+ KB\n",
      "<class 'pandas.core.frame.DataFrame'>\n",
      "RangeIndex: 77 entries, 0 to 76\n",
      "Data columns (total 9 columns):\n",
      " #   Column      Non-Null Count  Dtype  \n",
      "---  ------      --------------  -----  \n",
      " 0   circuitId   77 non-null     int64  \n",
      " 1   circuitRef  77 non-null     object \n",
      " 2   name        77 non-null     object \n",
      " 3   location    77 non-null     object \n",
      " 4   country     77 non-null     object \n",
      " 5   lat         77 non-null     float64\n",
      " 6   lng         77 non-null     float64\n",
      " 7   alt         77 non-null     object \n",
      " 8   url         77 non-null     object \n",
      "dtypes: float64(2), int64(1), object(6)\n",
      "memory usage: 5.5+ KB\n"
     ]
    }
   ],
   "source": [
    "races.info()\n",
    "circuits.info()"
   ]
  },
  {
   "cell_type": "code",
   "execution_count": 12,
   "id": "91a8c473-c55b-4999-91a4-03263eb85ee6",
   "metadata": {},
   "outputs": [
    {
     "data": {
      "text/html": [
       "<div>\n",
       "<style scoped>\n",
       "    .dataframe tbody tr th:only-of-type {\n",
       "        vertical-align: middle;\n",
       "    }\n",
       "\n",
       "    .dataframe tbody tr th {\n",
       "        vertical-align: top;\n",
       "    }\n",
       "\n",
       "    .dataframe thead th {\n",
       "        text-align: right;\n",
       "    }\n",
       "</style>\n",
       "<table border=\"1\" class=\"dataframe\">\n",
       "  <thead>\n",
       "    <tr style=\"text-align: right;\">\n",
       "      <th></th>\n",
       "      <th>statusId</th>\n",
       "      <th>status</th>\n",
       "    </tr>\n",
       "  </thead>\n",
       "  <tbody>\n",
       "    <tr>\n",
       "      <th>0</th>\n",
       "      <td>1</td>\n",
       "      <td>Finished</td>\n",
       "    </tr>\n",
       "    <tr>\n",
       "      <th>1</th>\n",
       "      <td>2</td>\n",
       "      <td>Disqualified</td>\n",
       "    </tr>\n",
       "    <tr>\n",
       "      <th>2</th>\n",
       "      <td>3</td>\n",
       "      <td>Accident</td>\n",
       "    </tr>\n",
       "    <tr>\n",
       "      <th>3</th>\n",
       "      <td>4</td>\n",
       "      <td>Collision</td>\n",
       "    </tr>\n",
       "    <tr>\n",
       "      <th>4</th>\n",
       "      <td>5</td>\n",
       "      <td>Engine</td>\n",
       "    </tr>\n",
       "  </tbody>\n",
       "</table>\n",
       "</div>"
      ],
      "text/plain": [
       "   statusId        status\n",
       "0         1      Finished\n",
       "1         2  Disqualified\n",
       "2         3      Accident\n",
       "3         4     Collision\n",
       "4         5        Engine"
      ]
     },
     "execution_count": 12,
     "metadata": {},
     "output_type": "execute_result"
    }
   ],
   "source": [
    "status.head()"
   ]
  },
  {
   "cell_type": "code",
   "execution_count": 13,
   "id": "f9acf56b-a540-4351-9606-3af2b04ff971",
   "metadata": {},
   "outputs": [
    {
     "data": {
      "text/html": [
       "<div>\n",
       "<style scoped>\n",
       "    .dataframe tbody tr th:only-of-type {\n",
       "        vertical-align: middle;\n",
       "    }\n",
       "\n",
       "    .dataframe tbody tr th {\n",
       "        vertical-align: top;\n",
       "    }\n",
       "\n",
       "    .dataframe thead th {\n",
       "        text-align: right;\n",
       "    }\n",
       "</style>\n",
       "<table border=\"1\" class=\"dataframe\">\n",
       "  <thead>\n",
       "    <tr style=\"text-align: right;\">\n",
       "      <th></th>\n",
       "      <th>constructorStandingsId</th>\n",
       "      <th>raceId</th>\n",
       "      <th>constructorId</th>\n",
       "      <th>points</th>\n",
       "      <th>position</th>\n",
       "      <th>positionText</th>\n",
       "      <th>wins</th>\n",
       "    </tr>\n",
       "  </thead>\n",
       "  <tbody>\n",
       "    <tr>\n",
       "      <th>0</th>\n",
       "      <td>1</td>\n",
       "      <td>18</td>\n",
       "      <td>1</td>\n",
       "      <td>14.0</td>\n",
       "      <td>1</td>\n",
       "      <td>1</td>\n",
       "      <td>1</td>\n",
       "    </tr>\n",
       "    <tr>\n",
       "      <th>1</th>\n",
       "      <td>2</td>\n",
       "      <td>18</td>\n",
       "      <td>2</td>\n",
       "      <td>8.0</td>\n",
       "      <td>3</td>\n",
       "      <td>3</td>\n",
       "      <td>0</td>\n",
       "    </tr>\n",
       "    <tr>\n",
       "      <th>2</th>\n",
       "      <td>3</td>\n",
       "      <td>18</td>\n",
       "      <td>3</td>\n",
       "      <td>9.0</td>\n",
       "      <td>2</td>\n",
       "      <td>2</td>\n",
       "      <td>0</td>\n",
       "    </tr>\n",
       "    <tr>\n",
       "      <th>3</th>\n",
       "      <td>4</td>\n",
       "      <td>18</td>\n",
       "      <td>4</td>\n",
       "      <td>5.0</td>\n",
       "      <td>4</td>\n",
       "      <td>4</td>\n",
       "      <td>0</td>\n",
       "    </tr>\n",
       "    <tr>\n",
       "      <th>4</th>\n",
       "      <td>5</td>\n",
       "      <td>18</td>\n",
       "      <td>5</td>\n",
       "      <td>2.0</td>\n",
       "      <td>5</td>\n",
       "      <td>5</td>\n",
       "      <td>0</td>\n",
       "    </tr>\n",
       "  </tbody>\n",
       "</table>\n",
       "</div>"
      ],
      "text/plain": [
       "   constructorStandingsId  raceId  constructorId  points  position   \n",
       "0                       1      18              1    14.0         1  \\\n",
       "1                       2      18              2     8.0         3   \n",
       "2                       3      18              3     9.0         2   \n",
       "3                       4      18              4     5.0         4   \n",
       "4                       5      18              5     2.0         5   \n",
       "\n",
       "  positionText  wins  \n",
       "0            1     1  \n",
       "1            3     0  \n",
       "2            2     0  \n",
       "3            4     0  \n",
       "4            5     0  "
      ]
     },
     "execution_count": 13,
     "metadata": {},
     "output_type": "execute_result"
    }
   ],
   "source": [
    "#constructors.head()\n",
    "constructor_standings.head()\n",
    "#constructor_standings.info()\n",
    "#constructor_results.head()\n",
    "#constructor_results.info()"
   ]
  },
  {
   "cell_type": "code",
   "execution_count": 14,
   "id": "3dd46f6d-dfd0-4dd3-be6b-195db9e82e5c",
   "metadata": {},
   "outputs": [
    {
     "data": {
      "image/png": "[encoded data removed]",
      "text/plain": [
       "<Figure size 1000x600 with 1 Axes>"
      ]
     },
     "metadata": {},
     "output_type": "display_data"
    }
   ],
   "source": [
    "\n",
    "country_counts = circuits['country'].value_counts()\n",
    "plt.figure(figsize=(10, 6))\n",
    "country_counts.plot(kind='bar')\n",
    "plt.xlabel('Country')\n",
    "plt.ylabel('Count')\n",
    "plt.title('Number of Circuits per Country')\n",
    "plt.show()"
   ]
  },
  {
   "cell_type": "code",
   "execution_count": 19,
   "id": "5044ef93",
   "metadata": {},
   "outputs": [],
   "source": [
    "# Merge drivers and driver_standings based on driver.id\n",
    "driver_1 = pd.merge(drivers, driver_standings, on='driverId', how='outer')"
   ]
  },
  {
   "cell_type": "code",
   "execution_count": 21,
   "id": "586b9c5b",
   "metadata": {},
   "outputs": [
    {
     "data": {
      "text/html": [
       "<div>\n",
       "<style scoped>\n",
       "    .dataframe tbody tr th:only-of-type {\n",
       "        vertical-align: middle;\n",
       "    }\n",
       "\n",
       "    .dataframe tbody tr th {\n",
       "        vertical-align: top;\n",
       "    }\n",
       "\n",
       "    .dataframe thead th {\n",
       "        text-align: right;\n",
       "    }\n",
       "</style>\n",
       "<table border=\"1\" class=\"dataframe\">\n",
       "  <thead>\n",
       "    <tr style=\"text-align: right;\">\n",
       "      <th></th>\n",
       "      <th>driverId</th>\n",
       "      <th>driverRef</th>\n",
       "      <th>number</th>\n",
       "      <th>code</th>\n",
       "      <th>forename</th>\n",
       "      <th>surname</th>\n",
       "      <th>dob</th>\n",
       "      <th>nationality</th>\n",
       "      <th>url</th>\n",
       "      <th>driverStandingsId</th>\n",
       "      <th>raceId</th>\n",
       "      <th>points</th>\n",
       "      <th>position</th>\n",
       "      <th>positionText</th>\n",
       "      <th>wins</th>\n",
       "    </tr>\n",
       "  </thead>\n",
       "  <tbody>\n",
       "    <tr>\n",
       "      <th>0</th>\n",
       "      <td>1</td>\n",
       "      <td>hamilton</td>\n",
       "      <td>44</td>\n",
       "      <td>HAM</td>\n",
       "      <td>Lewis</td>\n",
       "      <td>Hamilton</td>\n",
       "      <td>1985-01-07</td>\n",
       "      <td>British</td>\n",
       "      <td>http://en.wikipedia.org/wiki/Lewis_Hamilton</td>\n",
       "      <td>1.0</td>\n",
       "      <td>18.0</td>\n",
       "      <td>10.0</td>\n",
       "      <td>1.0</td>\n",
       "      <td>1</td>\n",
       "      <td>1.0</td>\n",
       "    </tr>\n",
       "    <tr>\n",
       "      <th>1</th>\n",
       "      <td>1</td>\n",
       "      <td>hamilton</td>\n",
       "      <td>44</td>\n",
       "      <td>HAM</td>\n",
       "      <td>Lewis</td>\n",
       "      <td>Hamilton</td>\n",
       "      <td>1985-01-07</td>\n",
       "      <td>British</td>\n",
       "      <td>http://en.wikipedia.org/wiki/Lewis_Hamilton</td>\n",
       "      <td>9.0</td>\n",
       "      <td>19.0</td>\n",
       "      <td>14.0</td>\n",
       "      <td>1.0</td>\n",
       "      <td>1</td>\n",
       "      <td>1.0</td>\n",
       "    </tr>\n",
       "    <tr>\n",
       "      <th>2</th>\n",
       "      <td>1</td>\n",
       "      <td>hamilton</td>\n",
       "      <td>44</td>\n",
       "      <td>HAM</td>\n",
       "      <td>Lewis</td>\n",
       "      <td>Hamilton</td>\n",
       "      <td>1985-01-07</td>\n",
       "      <td>British</td>\n",
       "      <td>http://en.wikipedia.org/wiki/Lewis_Hamilton</td>\n",
       "      <td>27.0</td>\n",
       "      <td>20.0</td>\n",
       "      <td>14.0</td>\n",
       "      <td>3.0</td>\n",
       "      <td>3</td>\n",
       "      <td>1.0</td>\n",
       "    </tr>\n",
       "    <tr>\n",
       "      <th>3</th>\n",
       "      <td>1</td>\n",
       "      <td>hamilton</td>\n",
       "      <td>44</td>\n",
       "      <td>HAM</td>\n",
       "      <td>Lewis</td>\n",
       "      <td>Hamilton</td>\n",
       "      <td>1985-01-07</td>\n",
       "      <td>British</td>\n",
       "      <td>http://en.wikipedia.org/wiki/Lewis_Hamilton</td>\n",
       "      <td>48.0</td>\n",
       "      <td>21.0</td>\n",
       "      <td>20.0</td>\n",
       "      <td>2.0</td>\n",
       "      <td>2</td>\n",
       "      <td>1.0</td>\n",
       "    </tr>\n",
       "    <tr>\n",
       "      <th>4</th>\n",
       "      <td>1</td>\n",
       "      <td>hamilton</td>\n",
       "      <td>44</td>\n",
       "      <td>HAM</td>\n",
       "      <td>Lewis</td>\n",
       "      <td>Hamilton</td>\n",
       "      <td>1985-01-07</td>\n",
       "      <td>British</td>\n",
       "      <td>http://en.wikipedia.org/wiki/Lewis_Hamilton</td>\n",
       "      <td>69.0</td>\n",
       "      <td>22.0</td>\n",
       "      <td>28.0</td>\n",
       "      <td>3.0</td>\n",
       "      <td>3</td>\n",
       "      <td>1.0</td>\n",
       "    </tr>\n",
       "  </tbody>\n",
       "</table>\n",
       "</div>"
      ],
      "text/plain": [
       "   driverId driverRef number code forename   surname         dob nationality   \n",
       "0         1  hamilton     44  HAM    Lewis  Hamilton  1985-01-07     British  \\\n",
       "1         1  hamilton     44  HAM    Lewis  Hamilton  1985-01-07     British   \n",
       "2         1  hamilton     44  HAM    Lewis  Hamilton  1985-01-07     British   \n",
       "3         1  hamilton     44  HAM    Lewis  Hamilton  1985-01-07     British   \n",
       "4         1  hamilton     44  HAM    Lewis  Hamilton  1985-01-07     British   \n",
       "\n",
       "                                           url  driverStandingsId  raceId   \n",
       "0  http://en.wikipedia.org/wiki/Lewis_Hamilton                1.0    18.0  \\\n",
       "1  http://en.wikipedia.org/wiki/Lewis_Hamilton                9.0    19.0   \n",
       "2  http://en.wikipedia.org/wiki/Lewis_Hamilton               27.0    20.0   \n",
       "3  http://en.wikipedia.org/wiki/Lewis_Hamilton               48.0    21.0   \n",
       "4  http://en.wikipedia.org/wiki/Lewis_Hamilton               69.0    22.0   \n",
       "\n",
       "   points  position positionText  wins  \n",
       "0    10.0       1.0            1   1.0  \n",
       "1    14.0       1.0            1   1.0  \n",
       "2    14.0       3.0            3   1.0  \n",
       "3    20.0       2.0            2   1.0  \n",
       "4    28.0       3.0            3   1.0  "
      ]
     },
     "execution_count": 21,
     "metadata": {},
     "output_type": "execute_result"
    }
   ],
   "source": [
    "driver_1.head()"
   ]
  },
  {
   "cell_type": "code",
   "execution_count": 20,
   "id": "e683d40d",
   "metadata": {},
   "outputs": [
    {
     "name": "stdout",
     "output_type": "stream",
     "text": [
      "<class 'pandas.core.frame.DataFrame'>\n",
      "RangeIndex: 33909 entries, 0 to 33908\n",
      "Data columns (total 15 columns):\n",
      " #   Column             Non-Null Count  Dtype  \n",
      "---  ------             --------------  -----  \n",
      " 0   driverId           33909 non-null  int64  \n",
      " 1   driverRef          33909 non-null  object \n",
      " 2   number             33909 non-null  object \n",
      " 3   code               33909 non-null  object \n",
      " 4   forename           33909 non-null  object \n",
      " 5   surname            33909 non-null  object \n",
      " 6   dob                33909 non-null  object \n",
      " 7   nationality        33909 non-null  object \n",
      " 8   url                33909 non-null  object \n",
      " 9   driverStandingsId  33902 non-null  float64\n",
      " 10  raceId             33902 non-null  float64\n",
      " 11  points             33902 non-null  float64\n",
      " 12  position           33902 non-null  float64\n",
      " 13  positionText       33902 non-null  object \n",
      " 14  wins               33902 non-null  float64\n",
      "dtypes: float64(5), int64(1), object(9)\n",
      "memory usage: 3.9+ MB\n"
     ]
    }
   ],
   "source": [
    "driver_1.info()"
   ]
  },
  {
   "cell_type": "code",
   "execution_count": 22,
   "id": "07dfe6a0",
   "metadata": {},
   "outputs": [],
   "source": [
    "drivers_2 = pd.merge(driver_1, driver_results, on='driverId', how='outer')"
   ]
  },
  {
   "cell_type": "code",
   "execution_count": 23,
   "id": "057ecbb2",
   "metadata": {},
   "outputs": [
    {
     "data": {
      "text/html": [
       "<div>\n",
       "<style scoped>\n",
       "    .dataframe tbody tr th:only-of-type {\n",
       "        vertical-align: middle;\n",
       "    }\n",
       "\n",
       "    .dataframe tbody tr th {\n",
       "        vertical-align: top;\n",
       "    }\n",
       "\n",
       "    .dataframe thead th {\n",
       "        text-align: right;\n",
       "    }\n",
       "</style>\n",
       "<table border=\"1\" class=\"dataframe\">\n",
       "  <thead>\n",
       "    <tr style=\"text-align: right;\">\n",
       "      <th></th>\n",
       "      <th>driverId</th>\n",
       "      <th>driverRef</th>\n",
       "      <th>number_x</th>\n",
       "      <th>code</th>\n",
       "      <th>forename</th>\n",
       "      <th>surname</th>\n",
       "      <th>dob</th>\n",
       "      <th>nationality</th>\n",
       "      <th>url</th>\n",
       "      <th>driverStandingsId</th>\n",
       "      <th>...</th>\n",
       "      <th>positionOrder</th>\n",
       "      <th>points_y</th>\n",
       "      <th>laps</th>\n",
       "      <th>time</th>\n",
       "      <th>milliseconds</th>\n",
       "      <th>fastestLap</th>\n",
       "      <th>rank</th>\n",
       "      <th>fastestLapTime</th>\n",
       "      <th>fastestLapSpeed</th>\n",
       "      <th>statusId</th>\n",
       "    </tr>\n",
       "  </thead>\n",
       "  <tbody>\n",
       "    <tr>\n",
       "      <th>0</th>\n",
       "      <td>1</td>\n",
       "      <td>hamilton</td>\n",
       "      <td>44</td>\n",
       "      <td>HAM</td>\n",
       "      <td>Lewis</td>\n",
       "      <td>Hamilton</td>\n",
       "      <td>1985-01-07</td>\n",
       "      <td>British</td>\n",
       "      <td>http://en.wikipedia.org/wiki/Lewis_Hamilton</td>\n",
       "      <td>1.0</td>\n",
       "      <td>...</td>\n",
       "      <td>1.0</td>\n",
       "      <td>10.0</td>\n",
       "      <td>58.0</td>\n",
       "      <td>1:34:50.616</td>\n",
       "      <td>5690616</td>\n",
       "      <td>39</td>\n",
       "      <td>2</td>\n",
       "      <td>1:27.452</td>\n",
       "      <td>218.300</td>\n",
       "      <td>1.0</td>\n",
       "    </tr>\n",
       "    <tr>\n",
       "      <th>1</th>\n",
       "      <td>1</td>\n",
       "      <td>hamilton</td>\n",
       "      <td>44</td>\n",
       "      <td>HAM</td>\n",
       "      <td>Lewis</td>\n",
       "      <td>Hamilton</td>\n",
       "      <td>1985-01-07</td>\n",
       "      <td>British</td>\n",
       "      <td>http://en.wikipedia.org/wiki/Lewis_Hamilton</td>\n",
       "      <td>1.0</td>\n",
       "      <td>...</td>\n",
       "      <td>5.0</td>\n",
       "      <td>4.0</td>\n",
       "      <td>56.0</td>\n",
       "      <td>+46.548</td>\n",
       "      <td>5525103</td>\n",
       "      <td>53</td>\n",
       "      <td>3</td>\n",
       "      <td>1:35.462</td>\n",
       "      <td>209.033</td>\n",
       "      <td>1.0</td>\n",
       "    </tr>\n",
       "    <tr>\n",
       "      <th>2</th>\n",
       "      <td>1</td>\n",
       "      <td>hamilton</td>\n",
       "      <td>44</td>\n",
       "      <td>HAM</td>\n",
       "      <td>Lewis</td>\n",
       "      <td>Hamilton</td>\n",
       "      <td>1985-01-07</td>\n",
       "      <td>British</td>\n",
       "      <td>http://en.wikipedia.org/wiki/Lewis_Hamilton</td>\n",
       "      <td>1.0</td>\n",
       "      <td>...</td>\n",
       "      <td>13.0</td>\n",
       "      <td>0.0</td>\n",
       "      <td>56.0</td>\n",
       "      <td>\\N</td>\n",
       "      <td>\\N</td>\n",
       "      <td>25</td>\n",
       "      <td>19</td>\n",
       "      <td>1:35.520</td>\n",
       "      <td>203.969</td>\n",
       "      <td>11.0</td>\n",
       "    </tr>\n",
       "    <tr>\n",
       "      <th>3</th>\n",
       "      <td>1</td>\n",
       "      <td>hamilton</td>\n",
       "      <td>44</td>\n",
       "      <td>HAM</td>\n",
       "      <td>Lewis</td>\n",
       "      <td>Hamilton</td>\n",
       "      <td>1985-01-07</td>\n",
       "      <td>British</td>\n",
       "      <td>http://en.wikipedia.org/wiki/Lewis_Hamilton</td>\n",
       "      <td>1.0</td>\n",
       "      <td>...</td>\n",
       "      <td>3.0</td>\n",
       "      <td>6.0</td>\n",
       "      <td>66.0</td>\n",
       "      <td>+4.187</td>\n",
       "      <td>5903238</td>\n",
       "      <td>20</td>\n",
       "      <td>3</td>\n",
       "      <td>1:22.017</td>\n",
       "      <td>204.323</td>\n",
       "      <td>1.0</td>\n",
       "    </tr>\n",
       "    <tr>\n",
       "      <th>4</th>\n",
       "      <td>1</td>\n",
       "      <td>hamilton</td>\n",
       "      <td>44</td>\n",
       "      <td>HAM</td>\n",
       "      <td>Lewis</td>\n",
       "      <td>Hamilton</td>\n",
       "      <td>1985-01-07</td>\n",
       "      <td>British</td>\n",
       "      <td>http://en.wikipedia.org/wiki/Lewis_Hamilton</td>\n",
       "      <td>1.0</td>\n",
       "      <td>...</td>\n",
       "      <td>2.0</td>\n",
       "      <td>8.0</td>\n",
       "      <td>58.0</td>\n",
       "      <td>+3.779</td>\n",
       "      <td>5213230</td>\n",
       "      <td>31</td>\n",
       "      <td>2</td>\n",
       "      <td>1:26.529</td>\n",
       "      <td>222.085</td>\n",
       "      <td>1.0</td>\n",
       "    </tr>\n",
       "  </tbody>\n",
       "</table>\n",
       "<p>5 rows × 32 columns</p>\n",
       "</div>"
      ],
      "text/plain": [
       "   driverId driverRef number_x code forename   surname         dob   \n",
       "0         1  hamilton       44  HAM    Lewis  Hamilton  1985-01-07  \\\n",
       "1         1  hamilton       44  HAM    Lewis  Hamilton  1985-01-07   \n",
       "2         1  hamilton       44  HAM    Lewis  Hamilton  1985-01-07   \n",
       "3         1  hamilton       44  HAM    Lewis  Hamilton  1985-01-07   \n",
       "4         1  hamilton       44  HAM    Lewis  Hamilton  1985-01-07   \n",
       "\n",
       "  nationality                                          url  driverStandingsId   \n",
       "0     British  http://en.wikipedia.org/wiki/Lewis_Hamilton                1.0  \\\n",
       "1     British  http://en.wikipedia.org/wiki/Lewis_Hamilton                1.0   \n",
       "2     British  http://en.wikipedia.org/wiki/Lewis_Hamilton                1.0   \n",
       "3     British  http://en.wikipedia.org/wiki/Lewis_Hamilton                1.0   \n",
       "4     British  http://en.wikipedia.org/wiki/Lewis_Hamilton                1.0   \n",
       "\n",
       "   ...  positionOrder  points_y  laps         time  milliseconds  fastestLap   \n",
       "0  ...            1.0      10.0  58.0  1:34:50.616       5690616          39  \\\n",
       "1  ...            5.0       4.0  56.0      +46.548       5525103          53   \n",
       "2  ...           13.0       0.0  56.0           \\N            \\N          25   \n",
       "3  ...            3.0       6.0  66.0       +4.187       5903238          20   \n",
       "4  ...            2.0       8.0  58.0       +3.779       5213230          31   \n",
       "\n",
       "   rank  fastestLapTime fastestLapSpeed  statusId  \n",
       "0     2        1:27.452         218.300       1.0  \n",
       "1     3        1:35.462         209.033       1.0  \n",
       "2    19        1:35.520         203.969      11.0  \n",
       "3     3        1:22.017         204.323       1.0  \n",
       "4     2        1:26.529         222.085       1.0  \n",
       "\n",
       "[5 rows x 32 columns]"
      ]
     },
     "execution_count": 23,
     "metadata": {},
     "output_type": "execute_result"
    }
   ],
   "source": [
    "drivers_2.head()"
   ]
  },
  {
   "cell_type": "code",
   "execution_count": 24,
   "id": "b41ee990",
   "metadata": {},
   "outputs": [
    {
     "name": "stdout",
     "output_type": "stream",
     "text": [
      "<class 'pandas.core.frame.DataFrame'>\n",
      "RangeIndex: 3475819 entries, 0 to 3475818\n",
      "Data columns (total 32 columns):\n",
      " #   Column             Dtype  \n",
      "---  ------             -----  \n",
      " 0   driverId           int64  \n",
      " 1   driverRef          object \n",
      " 2   number_x           object \n",
      " 3   code               object \n",
      " 4   forename           object \n",
      " 5   surname            object \n",
      " 6   dob                object \n",
      " 7   nationality        object \n",
      " 8   url                object \n",
      " 9   driverStandingsId  float64\n",
      " 10  raceId_x           float64\n",
      " 11  points_x           float64\n",
      " 12  position_x         float64\n",
      " 13  positionText_x     object \n",
      " 14  wins               float64\n",
      " 15  resultId           float64\n",
      " 16  raceId_y           float64\n",
      " 17  constructorId      float64\n",
      " 18  number_y           object \n",
      " 19  grid               float64\n",
      " 20  position_y         object \n",
      " 21  positionText_y     object \n",
      " 22  positionOrder      float64\n",
      " 23  points_y           float64\n",
      " 24  laps               float64\n",
      " 25  time               object \n",
      " 26  milliseconds       object \n",
      " 27  fastestLap         object \n",
      " 28  rank               object \n",
      " 29  fastestLapTime     object \n",
      " 30  fastestLapSpeed    object \n",
      " 31  statusId           float64\n",
      "dtypes: float64(13), int64(1), object(18)\n",
      "memory usage: 848.6+ MB\n"
     ]
    }
   ],
   "source": [
    "drivers_2.info()"
   ]
  },
  {
   "cell_type": "code",
   "execution_count": 33,
   "id": "64614b36",
   "metadata": {},
   "outputs": [],
   "source": [
    "#Renaming Duplicate Columns\n",
    "drivers_2 = drivers_2.rename(columns={'number_x':'number'})\n",
    "drivers_2 = drivers_2.rename(columns={'raceId_x':'raceId'})\n",
    "drivers_2 = drivers_2.rename(columns={'points_x':'points'})\n",
    "drivers_2 = drivers_2.rename(columns={'position_x':'position'})\n",
    "drivers_2 = drivers_2.rename(columns={'positionText_x':'positionText'})"
   ]
  },
  {
   "cell_type": "code",
   "execution_count": 26,
   "id": "579b95c2",
   "metadata": {},
   "outputs": [],
   "source": [
    "#Remove Duplicate Columns\n",
    "drivers_2 = drivers_2.drop(['raceId_y', 'number_y','position_y','positionText_y','points_y'], axis=1)"
   ]
  },
  {
   "cell_type": "code",
   "execution_count": 34,
   "id": "c02b3b8d",
   "metadata": {},
   "outputs": [
    {
     "name": "stdout",
     "output_type": "stream",
     "text": [
      "<class 'pandas.core.frame.DataFrame'>\n",
      "RangeIndex: 3475819 entries, 0 to 3475818\n",
      "Data columns (total 27 columns):\n",
      " #   Column             Dtype  \n",
      "---  ------             -----  \n",
      " 0   driverId           int64  \n",
      " 1   driverRef          object \n",
      " 2   number             object \n",
      " 3   code               object \n",
      " 4   forename           object \n",
      " 5   surname            object \n",
      " 6   dob                object \n",
      " 7   nationality        object \n",
      " 8   url                object \n",
      " 9   driverStandingsId  float64\n",
      " 10  raceId             float64\n",
      " 11  points             float64\n",
      " 12  position           float64\n",
      " 13  positionText       object \n",
      " 14  wins               float64\n",
      " 15  resultId           float64\n",
      " 16  constructorId      float64\n",
      " 17  grid               float64\n",
      " 18  positionOrder      float64\n",
      " 19  laps               float64\n",
      " 20  time               object \n",
      " 21  milliseconds       object \n",
      " 22  fastestLap         object \n",
      " 23  rank               object \n",
      " 24  fastestLapTime     object \n",
      " 25  fastestLapSpeed    object \n",
      " 26  statusId           float64\n",
      "dtypes: float64(11), int64(1), object(15)\n",
      "memory usage: 716.0+ MB\n"
     ]
    }
   ],
   "source": [
    "drivers_2.info()"
   ]
  },
  {
   "cell_type": "code",
   "execution_count": 37,
   "id": "3f2e5fff",
   "metadata": {},
   "outputs": [
    {
     "name": "stdout",
     "output_type": "stream",
     "text": [
      "         driverId forename     surname  wins nationality\n",
      "3370927       830      Max  Verstappen  15.0       Dutch\n"
     ]
    }
   ],
   "source": [
    "#Top 10 Drivers with the most wins per season\n",
    "\n",
    "SortedByWins = drivers_2.sort_values(by='wins', ascending=False)\n",
    "Top10Drivers = SortedByWins.head(10)\n",
    "result = Top10Drivers[['driverId','forename', 'surname', 'wins', 'nationality']]\n",
    "result = result.drop_duplicates(subset='driverId')\n",
    "print(result)\n",
    "\n",
    "\n",
    "#ISSUE - only pulling in Max, not sure which step to filter only unique values. Will come back to this."
   ]
  },
  {
   "cell_type": "code",
   "execution_count": 38,
   "id": "7ded84b1",
   "metadata": {},
   "outputs": [
    {
     "data": {
      "image/png": "[encoded data removed]",
      "text/plain": [
       "<Figure size 1000x600 with 1 Axes>"
      ]
     },
     "metadata": {},
     "output_type": "display_data"
    }
   ],
   "source": [
    "#Nationalities of F1 drivers\n",
    "\n",
    "nationality_counts = drivers_2['nationality'].value_counts()\n",
    "plt.figure(figsize=(10, 6))\n",
    "nationality_counts.plot(kind='bar')\n",
    "plt.xlabel('Nationality')\n",
    "plt.ylabel('Count')\n",
    "plt.title('Number of Drivers by Nationality')\n",
    "plt.show()\n",
    "\n"
   ]
  },
  {
   "cell_type": "code",
   "execution_count": 39,
   "id": "b2534a8b",
   "metadata": {},
   "outputs": [],
   "source": [
    "#Combine Race and Pitstop Dataset to see average time of Pitstops in the years 2011-2020\n",
    "\n",
    "race_1 = pd.merge(races, pit_stops, on='raceId', how='outer')"
   ]
  },
  {
   "cell_type": "code",
   "execution_count": 40,
   "id": "32b9f55b",
   "metadata": {},
   "outputs": [
    {
     "name": "stdout",
     "output_type": "stream",
     "text": [
      "<class 'pandas.core.frame.DataFrame'>\n",
      "RangeIndex: 10497 entries, 0 to 10496\n",
      "Data columns (total 24 columns):\n",
      " #   Column        Non-Null Count  Dtype  \n",
      "---  ------        --------------  -----  \n",
      " 0   raceId        10497 non-null  int64  \n",
      " 1   year          10497 non-null  int64  \n",
      " 2   round         10497 non-null  int64  \n",
      " 3   circuitId     10497 non-null  int64  \n",
      " 4   name          10497 non-null  object \n",
      " 5   date          10497 non-null  object \n",
      " 6   time_x        10497 non-null  object \n",
      " 7   url           10497 non-null  object \n",
      " 8   fp1_date      10497 non-null  object \n",
      " 9   fp1_time      10497 non-null  object \n",
      " 10  fp2_date      10497 non-null  object \n",
      " 11  fp2_time      10497 non-null  object \n",
      " 12  fp3_date      10497 non-null  object \n",
      " 13  fp3_time      10497 non-null  object \n",
      " 14  quali_date    10497 non-null  object \n",
      " 15  quali_time    10497 non-null  object \n",
      " 16  sprint_date   10497 non-null  object \n",
      " 17  sprint_time   10497 non-null  object \n",
      " 18  driverId      9634 non-null   float64\n",
      " 19  stop          9634 non-null   float64\n",
      " 20  lap           9634 non-null   float64\n",
      " 21  time_y        9634 non-null   object \n",
      " 22  duration      9634 non-null   object \n",
      " 23  milliseconds  9634 non-null   float64\n",
      "dtypes: float64(4), int64(4), object(16)\n",
      "memory usage: 1.9+ MB\n"
     ]
    }
   ],
   "source": [
    "race_1.info()"
   ]
  },
  {
   "cell_type": "code",
   "execution_count": 42,
   "id": "ed07a52f",
   "metadata": {},
   "outputs": [],
   "source": [
    "race_1 = race_1.rename(columns={'time_y':'TimeOfPitStop'})"
   ]
  },
  {
   "cell_type": "code",
   "execution_count": 44,
   "id": "7eb61b5e",
   "metadata": {},
   "outputs": [
    {
     "name": "stdout",
     "output_type": "stream",
     "text": [
      "<class 'pandas.core.frame.DataFrame'>\n",
      "Index: 8031 entries, 839 to 8869\n",
      "Data columns (total 24 columns):\n",
      " #   Column         Non-Null Count  Dtype  \n",
      "---  ------         --------------  -----  \n",
      " 0   raceId         8031 non-null   int64  \n",
      " 1   year           8031 non-null   int64  \n",
      " 2   round          8031 non-null   int64  \n",
      " 3   circuitId      8031 non-null   int64  \n",
      " 4   name           8031 non-null   object \n",
      " 5   date           8031 non-null   object \n",
      " 6   time_x         8031 non-null   object \n",
      " 7   url            8031 non-null   object \n",
      " 8   fp1_date       8031 non-null   object \n",
      " 9   fp1_time       8031 non-null   object \n",
      " 10  fp2_date       8031 non-null   object \n",
      " 11  fp2_time       8031 non-null   object \n",
      " 12  fp3_date       8031 non-null   object \n",
      " 13  fp3_time       8031 non-null   object \n",
      " 14  quali_date     8031 non-null   object \n",
      " 15  quali_time     8031 non-null   object \n",
      " 16  sprint_date    8031 non-null   object \n",
      " 17  sprint_time    8031 non-null   object \n",
      " 18  driverId       8031 non-null   float64\n",
      " 19  stop           8031 non-null   float64\n",
      " 20  lap            8031 non-null   float64\n",
      " 21  TimeOfPitStop  8031 non-null   object \n",
      " 22  duration       8031 non-null   object \n",
      " 23  milliseconds   8031 non-null   float64\n",
      "dtypes: float64(4), int64(4), object(16)\n",
      "memory usage: 1.5+ MB\n"
     ]
    }
   ],
   "source": [
    "#Filtering Race seasons 2011 - 2020\n",
    "\n",
    "race_2011_2020 = race_1.loc[(race_1['year'] >= 2011) & (race_1['year'] <= 2020)]\n",
    "race_2011_2020.info()"
   ]
  },
  {
   "cell_type": "code",
   "execution_count": 49,
   "id": "5afe8b0e",
   "metadata": {},
   "outputs": [
    {
     "name": "stdout",
     "output_type": "stream",
     "text": [
      "count       8031\n",
      "unique      5819\n",
      "top       22.745\n",
      "freq           6\n",
      "Name: duration, dtype: object\n"
     ]
    }
   ],
   "source": [
    "duration_summary = race_2011_2020['duration'].describe()\n",
    "print(duration_summary)"
   ]
  },
  {
   "cell_type": "code",
   "execution_count": 50,
   "id": "5ec213f8",
   "metadata": {},
   "outputs": [
    {
     "name": "stdout",
     "output_type": "stream",
     "text": [
      "59.555\n"
     ]
    }
   ],
   "source": [
    "duration_highest = race_2011_2020['duration'].max()\n",
    "print(duration_highest)"
   ]
  },
  {
   "cell_type": "code",
   "execution_count": 51,
   "id": "31c771f1",
   "metadata": {},
   "outputs": [
    {
     "name": "stdout",
     "output_type": "stream",
     "text": [
      "12.897\n"
     ]
    }
   ],
   "source": [
    "duration_lowest = race_2011_2020['duration'].min()\n",
    "print(duration_lowest)"
   ]
  },
  {
   "cell_type": "code",
   "execution_count": null,
   "id": "a3e3f033",
   "metadata": {},
   "outputs": [],
   "source": []
  }
 ],
 "metadata": {
  "kernelspec": {
   "display_name": "Python 3 (ipykernel)",
   "language": "python",
   "name": "python3"
  },
  "language_info": {
   "codemirror_mode": {
    "name": "ipython",
    "version": 3
   },
   "file_extension": ".py",
   "mimetype": "text/x-python",
   "name": "python",
   "nbconvert_exporter": "python",
   "pygments_lexer": "ipython3",
   "version": "3.10.11"
  }
 },
 "nbformat": 4,
 "nbformat_minor": 5
}
